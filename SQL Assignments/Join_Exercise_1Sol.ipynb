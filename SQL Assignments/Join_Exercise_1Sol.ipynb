{
    "metadata": {
        "kernelspec": {
            "name": "SQL",
            "display_name": "SQL",
            "language": "sql"
        },
        "language_info": {
            "name": "sql",
            "version": ""
        }
    },
    "nbformat_minor": 2,
    "nbformat": 4,
    "cells": [
        {
            "cell_type": "code",
            "source": [
                "--1\r\n",
                "select artist.name as Artistname,RecordLabel.name as recordlabelname from artist inner join recordlabel on artist.LabelId=recordlabel.LabelID     "
            ],
            "metadata": {
                "azdata_cell_guid": "dd86f59f-eecb-4ef2-83e3-150bceee9900",
                "language": "sql"
            },
            "outputs": [
                {
                    "output_type": "display_data",
                    "data": {
                        "text/html": "(8 rows affected)"
                    },
                    "metadata": {}
                },
                {
                    "output_type": "display_data",
                    "data": {
                        "text/html": "Total execution time: 00:00:00.046"
                    },
                    "metadata": {}
                },
                {
                    "output_type": "execute_result",
                    "execution_count": 1,
                    "data": {
                        "application/vnd.dataresource+json": {
                            "schema": {
                                "fields": [
                                    {
                                        "name": "Artistname"
                                    },
                                    {
                                        "name": "recordlabelname"
                                    }
                                ]
                            },
                            "data": [
                                {
                                    "0": "Metallica",
                                    "1": "Blackened"
                                },
                                {
                                    "0": "Megadeth",
                                    "1": "Blackened"
                                },
                                {
                                    "0": "Anthrax",
                                    "1": "Blackened"
                                },
                                {
                                    "0": "Eric Clapton",
                                    "1": "Warner Bros"
                                },
                                {
                                    "0": "ZZ Top",
                                    "1": "Warner Bros"
                                },
                                {
                                    "0": "Van Halen",
                                    "1": "Warner Bros"
                                },
                                {
                                    "0": "Lynyrd Skynyrd",
                                    "1": "Universal"
                                },
                                {
                                    "0": "ACDC",
                                    "1": "Universal"
                                }
                            ]
                        },
                        "text/html": "<table><tr><th>Artistname</th><th>recordlabelname</th></tr><tr><td>Metallica</td><td>Blackened</td></tr><tr><td>Megadeth</td><td>Blackened</td></tr><tr><td>Anthrax</td><td>Blackened</td></tr><tr><td>Eric Clapton</td><td>Warner Bros</td></tr><tr><td>ZZ Top</td><td>Warner Bros</td></tr><tr><td>Van Halen</td><td>Warner Bros</td></tr><tr><td>Lynyrd Skynyrd</td><td>Universal</td></tr><tr><td>ACDC</td><td>Universal</td></tr></table>"
                    },
                    "metadata": {}
                }
            ],
            "execution_count": 1
        },
        {
            "cell_type": "code",
            "source": [
                "--2\r\n",
                "SELECT Artist.name as artist_name,COUNT(Song.SongId) as numberof_songs from artist INNER JOIN album  on Artist.artistid=Album.artistid \r\n",
                "INNER JOIN song  on Album.albumid=Song.albumid GROUP by Artist.name order by numberof_songs DESC"
            ],
            "metadata": {
                "language": "sql",
                "azdata_cell_guid": "1917f4a6-6dad-4d42-8424-7c17a5db85fb"
            },
            "outputs": [
                {
                    "output_type": "display_data",
                    "data": {
                        "text/html": "(8 rows affected)"
                    },
                    "metadata": {}
                },
                {
                    "output_type": "display_data",
                    "data": {
                        "text/html": "Total execution time: 00:00:00.062"
                    },
                    "metadata": {}
                },
                {
                    "output_type": "execute_result",
                    "metadata": {},
                    "execution_count": 1,
                    "data": {
                        "application/vnd.dataresource+json": {
                            "schema": {
                                "fields": [
                                    {
                                        "name": "artist_name"
                                    },
                                    {
                                        "name": "numberof_songs"
                                    }
                                ]
                            },
                            "data": [
                                {
                                    "0": "Metallica",
                                    "1": "6"
                                },
                                {
                                    "0": "Megadeth",
                                    "1": "4"
                                },
                                {
                                    "0": "Eric Clapton",
                                    "1": "4"
                                },
                                {
                                    "0": "Lynyrd Skynyrd",
                                    "1": "2"
                                },
                                {
                                    "0": "ACDC",
                                    "1": "2"
                                },
                                {
                                    "0": "Anthrax",
                                    "1": "2"
                                },
                                {
                                    "0": "Van Halen",
                                    "1": "2"
                                },
                                {
                                    "0": "ZZ Top",
                                    "1": "2"
                                }
                            ]
                        },
                        "text/html": [
                            "<table>",
                            "<tr><th>artist_name</th><th>numberof_songs</th></tr>",
                            "<tr><td>Metallica</td><td>6</td></tr>",
                            "<tr><td>Megadeth</td><td>4</td></tr>",
                            "<tr><td>Eric Clapton</td><td>4</td></tr>",
                            "<tr><td>Lynyrd Skynyrd</td><td>2</td></tr>",
                            "<tr><td>ACDC</td><td>2</td></tr>",
                            "<tr><td>Anthrax</td><td>2</td></tr>",
                            "<tr><td>Van Halen</td><td>2</td></tr>",
                            "<tr><td>ZZ Top</td><td>2</td></tr>",
                            "</table>"
                        ]
                    }
                }
            ],
            "execution_count": 1
        },
        {
            "cell_type": "code",
            "source": [
                "--3\r\n",
                "select ar.name as artist, al.name as album from artist ar inner join album al \r\n",
                "on ar.ArtistId=al.ArtistId \r\n",
                "where ar.ArtistId!=1 ORDER by album"
            ],
            "metadata": {
                "language": "sql",
                "azdata_cell_guid": "698ac6df-ae23-4e25-af24-cd4ddae8c580"
            },
            "outputs": [
                {
                    "output_type": "display_data",
                    "data": {
                        "text/html": "(9 rows affected)"
                    },
                    "metadata": {}
                },
                {
                    "output_type": "display_data",
                    "data": {
                        "text/html": "Total execution time: 00:00:00.009"
                    },
                    "metadata": {}
                },
                {
                    "output_type": "execute_result",
                    "metadata": {},
                    "execution_count": 3,
                    "data": {
                        "application/vnd.dataresource+json": {
                            "schema": {
                                "fields": [
                                    {
                                        "name": "artist"
                                    },
                                    {
                                        "name": "album"
                                    }
                                ]
                            },
                            "data": [
                                {
                                    "0": "Lynyrd Skynyrd",
                                    "1": "All-Time Greatest Hits"
                                },
                                {
                                    "0": "Megadeth",
                                    "1": "Endgame"
                                },
                                {
                                    "0": "ACDC",
                                    "1": "Greatest Hits"
                                },
                                {
                                    "0": "ZZ Top",
                                    "1": "Greatest Hits"
                                },
                                {
                                    "0": "Van Halen",
                                    "1": "Greatest Hits"
                                },
                                {
                                    "0": "Megadeth",
                                    "1": "Peace Sells"
                                },
                                {
                                    "0": "Eric Clapton",
                                    "1": "Reptile"
                                },
                                {
                                    "0": "Eric Clapton",
                                    "1": "Riding with the King"
                                },
                                {
                                    "0": "Anthrax",
                                    "1": "The Greater of 2 Evils"
                                }
                            ]
                        },
                        "text/html": [
                            "<table>",
                            "<tr><th>artist</th><th>album</th></tr>",
                            "<tr><td>Lynyrd Skynyrd</td><td>All-Time Greatest Hits</td></tr>",
                            "<tr><td>Megadeth</td><td>Endgame</td></tr>",
                            "<tr><td>ACDC</td><td>Greatest Hits</td></tr>",
                            "<tr><td>ZZ Top</td><td>Greatest Hits</td></tr>",
                            "<tr><td>Van Halen</td><td>Greatest Hits</td></tr>",
                            "<tr><td>Megadeth</td><td>Peace Sells</td></tr>",
                            "<tr><td>Eric Clapton</td><td>Reptile</td></tr>",
                            "<tr><td>Eric Clapton</td><td>Riding with the King</td></tr>",
                            "<tr><td>Anthrax</td><td>The Greater of 2 Evils</td></tr>",
                            "</table>"
                        ]
                    }
                }
            ],
            "execution_count": 3
        },
        {
            "cell_type": "code",
            "source": [
                "--4\r\n",
                "select artist.Name as Artist , album.Name as album from\r\n",
                "artist inner join album on artist.ArtistId= album.artistId where album.ArtistId=1"
            ],
            "metadata": {
                "language": "sql",
                "azdata_cell_guid": "60634bbb-2402-4488-99d8-f9caf6d8ec0c"
            },
            "outputs": [
                {
                    "output_type": "display_data",
                    "data": {
                        "text/html": "(3 rows affected)"
                    },
                    "metadata": {}
                },
                {
                    "output_type": "display_data",
                    "data": {
                        "text/html": "Total execution time: 00:00:00.009"
                    },
                    "metadata": {}
                },
                {
                    "output_type": "execute_result",
                    "metadata": {},
                    "execution_count": 5,
                    "data": {
                        "application/vnd.dataresource+json": {
                            "schema": {
                                "fields": [
                                    {
                                        "name": "Artist"
                                    },
                                    {
                                        "name": "album"
                                    }
                                ]
                            },
                            "data": [
                                {
                                    "0": "Metallica",
                                    "1": "...And Justice For All"
                                },
                                {
                                    "0": "Metallica",
                                    "1": "Black Album"
                                },
                                {
                                    "0": "Metallica",
                                    "1": "Master of Puppets"
                                }
                            ]
                        },
                        "text/html": [
                            "<table>",
                            "<tr><th>Artist</th><th>album</th></tr>",
                            "<tr><td>Metallica</td><td>...And Justice For All</td></tr>",
                            "<tr><td>Metallica</td><td>Black Album</td></tr>",
                            "<tr><td>Metallica</td><td>Master of Puppets</td></tr>",
                            "</table>"
                        ]
                    }
                }
            ],
            "execution_count": 5
        },
        {
            "cell_type": "code",
            "source": [
                "--5\r\n",
                "select artist.name as Artist_name, sum(Song.Duration)as durationallsongs from\r\n",
                "artist inner join album on artist.ArtistId=album.ArtistId inner join Song on album.AlbumId=song.AlbumId \r\n",
                "group by artist.name order by durationallsongs desc"
            ],
            "metadata": {
                "language": "sql",
                "azdata_cell_guid": "0cfeaf29-e342-435a-8176-afcfe3910608"
            },
            "outputs": [
                {
                    "output_type": "display_data",
                    "data": {
                        "text/html": "(8 rows affected)"
                    },
                    "metadata": {}
                },
                {
                    "output_type": "display_data",
                    "data": {
                        "text/html": "Total execution time: 00:00:00.012"
                    },
                    "metadata": {}
                },
                {
                    "output_type": "execute_result",
                    "metadata": {},
                    "execution_count": 6,
                    "data": {
                        "application/vnd.dataresource+json": {
                            "schema": {
                                "fields": [
                                    {
                                        "name": "Artist_name"
                                    },
                                    {
                                        "name": "durationallsongs"
                                    }
                                ]
                            },
                            "data": [
                                {
                                    "0": "Metallica",
                                    "1": "37.74000072479248"
                                },
                                {
                                    "0": "Lynyrd Skynyrd",
                                    "1": "18.679999351501465"
                                },
                                {
                                    "0": "Megadeth",
                                    "1": "17.010000467300415"
                                },
                                {
                                    "0": "Eric Clapton",
                                    "1": "15.46999979019165"
                                },
                                {
                                    "0": "Anthrax",
                                    "1": "10.290000438690186"
                                },
                                {
                                    "0": "ZZ Top",
                                    "1": "8.470000267028809"
                                },
                                {
                                    "0": "ACDC",
                                    "1": "7.869999885559082"
                                },
                                {
                                    "0": "Van Halen",
                                    "1": "5.859999775886536"
                                }
                            ]
                        },
                        "text/html": [
                            "<table>",
                            "<tr><th>Artist_name</th><th>durationallsongs</th></tr>",
                            "<tr><td>Metallica</td><td>37.74000072479248</td></tr>",
                            "<tr><td>Lynyrd Skynyrd</td><td>18.679999351501465</td></tr>",
                            "<tr><td>Megadeth</td><td>17.010000467300415</td></tr>",
                            "<tr><td>Eric Clapton</td><td>15.46999979019165</td></tr>",
                            "<tr><td>Anthrax</td><td>10.290000438690186</td></tr>",
                            "<tr><td>ZZ Top</td><td>8.470000267028809</td></tr>",
                            "<tr><td>ACDC</td><td>7.869999885559082</td></tr>",
                            "<tr><td>Van Halen</td><td>5.859999775886536</td></tr>",
                            "</table>"
                        ]
                    }
                }
            ],
            "execution_count": 6
        }
    ]
}